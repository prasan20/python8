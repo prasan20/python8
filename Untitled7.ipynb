{
 "cells": [
  {
   "cell_type": "code",
   "execution_count": 1,
   "id": "c3e50c1b",
   "metadata": {},
   "outputs": [
    {
     "name": "stdout",
     "output_type": "stream",
     "text": [
      "enter n6\n",
      "enter values3\n",
      "enter values2\n",
      "enter values1\n",
      "enter values4\n",
      "enter values6\n",
      "enter values5\n",
      "[1, 2, 3, 4, 6, 5]\n"
     ]
    }
   ],
   "source": [
    "def gm(c):\n",
    "    l=[]\n",
    "    n=int(input(\"enter n\"))\n",
    "    for i in range(0,n):\n",
    "        b=int(input(\"enter values\"))\n",
    "        l.append(b)\n",
    "    l2=(sorted(l[0:c]))\n",
    "    l3=(l[c:])\n",
    "    l2.extend(l3)\n",
    "    return l2\n",
    "l2=gm(4)\n",
    "print(l2)\n"
   ]
  },
  {
   "cell_type": "code",
   "execution_count": 1,
   "id": "a01b4426",
   "metadata": {},
   "outputs": [
    {
     "name": "stdout",
     "output_type": "stream",
     "text": [
      "1 2 3 4\n"
     ]
    }
   ],
   "source": [
    "def test(a,b,c,d):\n",
    "    print(a,b,c,d)\n",
    "test(1,2,3,4)"
   ]
  },
  {
   "cell_type": "code",
   "execution_count": 2,
   "id": "57bd2dba",
   "metadata": {},
   "outputs": [
    {
     "name": "stdout",
     "output_type": "stream",
     "text": [
      "('dinesh', 'krishna', 'welcome', 'today')\n",
      "dinesh krishna\n"
     ]
    }
   ],
   "source": [
    "def test(*args):\n",
    "    print(args)\n",
    "    print(args[0],args[1])\n",
    "test(\"dinesh\",\"krishna\",\"welcome\",\"today\")#tuple"
   ]
  },
  {
   "cell_type": "code",
   "execution_count": 3,
   "id": "f162d749",
   "metadata": {},
   "outputs": [
    {
     "name": "stdout",
     "output_type": "stream",
     "text": [
      "{'name': 'dinesh', 'age': '12'}\n",
      "dinesh\n"
     ]
    }
   ],
   "source": [
    "def test(**kwargs):\n",
    "    print(kwargs)\n",
    "    print(kwargs.get(\"name\"))\n",
    "test(name=\"dinesh\",age=\"12\")#dictionary"
   ]
  },
  {
   "cell_type": "code",
   "execution_count": 4,
   "id": "d842b668",
   "metadata": {},
   "outputs": [
    {
     "name": "stdout",
     "output_type": "stream",
     "text": [
      "hello\n",
      "hi\n",
      "hello\n"
     ]
    }
   ],
   "source": [
    "a=\"hello\"#global variable\n",
    "def test():\n",
    "    a=\"hi\"\n",
    "    print(a)#local variable\n",
    "print(a)\n",
    "test()\n",
    "print(a)\n"
   ]
  },
  {
   "cell_type": "code",
   "execution_count": 9,
   "id": "1d1483a9",
   "metadata": {},
   "outputs": [
    {
     "name": "stdout",
     "output_type": "stream",
     "text": [
      "hello\n",
      "hi\n",
      "hi\n"
     ]
    }
   ],
   "source": [
    "a=\"hello\"#global variable\n",
    "def test():\n",
    "    global a\n",
    "    a=\"hi\"\n",
    "    print(a)#local variable\n",
    "print(a)\n",
    "test()\n",
    "print(a)\n"
   ]
  },
  {
   "cell_type": "code",
   "execution_count": 11,
   "id": "cacd773d",
   "metadata": {},
   "outputs": [
    {
     "name": "stdout",
     "output_type": "stream",
     "text": [
      "26\n"
     ]
    }
   ],
   "source": [
    "test=lambda a,b:a+b##inline function\n",
    "print(test(10,16))"
   ]
  },
  {
   "cell_type": "code",
   "execution_count": null,
   "id": "ff2da073",
   "metadata": {},
   "outputs": [],
   "source": []
  }
 ],
 "metadata": {
  "kernelspec": {
   "display_name": "Python 3 (ipykernel)",
   "language": "python",
   "name": "python3"
  },
  "language_info": {
   "codemirror_mode": {
    "name": "ipython",
    "version": 3
   },
   "file_extension": ".py",
   "mimetype": "text/x-python",
   "name": "python",
   "nbconvert_exporter": "python",
   "pygments_lexer": "ipython3",
   "version": "3.9.13"
  }
 },
 "nbformat": 4,
 "nbformat_minor": 5
}
